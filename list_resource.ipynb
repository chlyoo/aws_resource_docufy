{
 "cells": [
  {
   "cell_type": "code",
   "execution_count": 1,
   "id": "50ac2429-6c14-463f-839b-1527417c56cc",
   "metadata": {},
   "outputs": [],
   "source": [
    "import boto3\n",
    "import pandas as pd\n",
    "import openpyxl\n",
    "import asyncio\n",
    "import concurrent.futures"
   ]
  },
  {
   "cell_type": "code",
   "execution_count": 37,
   "id": "6d7d4e2d-f6ae-4d8d-8c00-b0803434dba3",
   "metadata": {
    "tags": []
   },
   "outputs": [],
   "source": [
    "def profile_iterator(func):\n",
    "    for profile in boto3.session.Session().available_profiles:\n",
    "        try:\n",
    "            result = func(profile)\n",
    "        except Exception as e:\n",
    "            print(e)\n",
    "        # break\n",
    "    yield result"
   ]
  },
  {
   "cell_type": "code",
   "execution_count": 3,
   "id": "946c0b82-7d31-4128-8679-70d5dbb917a9",
   "metadata": {},
   "outputs": [],
   "source": [
    "def test_iterator(func):\n",
    "    for profile in boto3.session.Session().available_profiles:\n",
    "        try:\n",
    "            result = func(profile)\n",
    "        except Exception as e:\n",
    "            print(e)\n",
    "        break\n",
    "    yield result"
   ]
  },
  {
   "cell_type": "code",
   "execution_count": 38,
   "id": "1f760de7-57c8-4f9a-a991-45d3a2f6a625",
   "metadata": {},
   "outputs": [],
   "source": [
    "@profile_iterator\n",
    "def list_s3(profile):\n",
    "    print(\"**********************************\" + profile)\n",
    "    default_session=boto3.session.Session(profile_name=profile)\n",
    "    s3_re=default_session.resource(service_name=\"s3\", region_name=\"ap-northeast-2\")\n",
    "    #s3_re = boto3.resource('s3')\n",
    "    # Print out bucket names\n",
    "    data = []\n",
    "    for bucket in s3_re.buckets.all():\n",
    "        print(bucket.name)\n",
    "        data.append(bucket.name)\n",
    "    return data"
   ]
  },
  {
   "cell_type": "code",
   "execution_count": 82,
   "id": "5e77126f-3ecc-4e38-b7ad-301357487723",
   "metadata": {},
   "outputs": [],
   "source": [
    "@test_iterator\n",
    "def list_ec2(profile):\n",
    "    print(\"**********************************\" + profile)\n",
    "    default_session=boto3.session.Session(profile_name=profile)\n",
    "    ec2_re=default_session.resource(service_name=\"ec2\", region_name=\"ap-northeast-2\")\n",
    "    #s3_re = boto3.resource('s3')\n",
    "    # Print out bucket names\n",
    "    data = []\n",
    "    for instance in ec2_re.instances.all():\n",
    "        instance_info = []\n",
    "        instance_info.append(instance.instance_id)\n",
    "        instance_info.append(instance.instance_type)\n",
    "        instance_info.append(instance.state['Name'])\n",
    "        # instance_info.append(instance.state_reason)\n",
    "        instance_info.append(instance.platform)\n",
    "        instance_info.append(instance.vpc)\n",
    "        instance_info.append(instance.subnet)\n",
    "        # instance_info.append(instance.vpc_id)\n",
    "        # instance_info.append(instance.subnet_id)\n",
    "        instance_info.append(instance.public_ip_address)\n",
    "        instance_info.append(instance.private_ip_address)\n",
    "        instance_info.append(instance.tags)\n",
    "        instance_info.append(instance.security_groups)\n",
    "        instance_info.append(instance.volumes)\n",
    "        data.append(instance_info)\n",
    "    print([name['Value'] for name in data[0][8] if name['Key'] == 'Name'][0])\n",
    "    return data"
   ]
  },
  {
   "cell_type": "code",
   "execution_count": 83,
   "id": "7ce164ed-ba51-44db-bc08-79113892dde5",
   "metadata": {},
   "outputs": [
    {
     "name": "stdout",
     "output_type": "stream",
     "text": [
      "**********************************default\n",
      "Terraform Test Server - sangheon\n",
      "[['i-0d41078876fab9852', 't2.medium', 'stopped', None, ec2.Vpc(id='vpc-55b55b3e'), ec2.Subnet(id='subnet-b00b13d8'), None, '172.31.11.253', [{'Key': 'Name', 'Value': 'Terraform Test Server - sangheon'}], [{'GroupName': 'launch-wizard-2', 'GroupId': 'sg-0bb044144d222b4e0'}], ec2.Instance.volumesCollectionManager(ec2.Instance(id='i-0d41078876fab9852'), ec2.Volume)], ['i-09134ba751bd35fec', 't2.micro', 'stopped', None, ec2.Vpc(id='vpc-0fc78d583b758a7f0'), ec2.Subnet(id='subnet-0c0701a835dc4788a'), None, '10.222.200.132', [{'Key': 'Name', 'Value': 'vpntest-public'}], [{'GroupName': 'vpntest', 'GroupId': 'sg-043e3f1318c70d947'}], ec2.Instance.volumesCollectionManager(ec2.Instance(id='i-09134ba751bd35fec'), ec2.Volume)]]\n"
     ]
    }
   ],
   "source": [
    "for item in list_ec2:\n",
    "    print(item)"
   ]
  },
  {
   "cell_type": "code",
   "execution_count": 6,
   "id": "df982fcf-624e-4394-9a3b-9f3cbe752c92",
   "metadata": {},
   "outputs": [
    {
     "ename": "NameError",
     "evalue": "name 'list_s3' is not defined",
     "output_type": "error",
     "traceback": [
      "\u001b[1;31m---------------------------------------------------------------------------\u001b[0m",
      "\u001b[1;31mNameError\u001b[0m                                 Traceback (most recent call last)",
      "\u001b[1;32m~\\AppData\\Local\\Temp/ipykernel_31796/206073133.py\u001b[0m in \u001b[0;36m<module>\u001b[1;34m\u001b[0m\n\u001b[1;32m----> 1\u001b[1;33m \u001b[1;32mfor\u001b[0m \u001b[0mitem\u001b[0m \u001b[1;32min\u001b[0m \u001b[0mlist_s3\u001b[0m\u001b[1;33m:\u001b[0m\u001b[1;33m\u001b[0m\u001b[1;33m\u001b[0m\u001b[0m\n\u001b[0m\u001b[0;32m      2\u001b[0m     \u001b[0mprint\u001b[0m\u001b[1;33m(\u001b[0m\u001b[0mitem\u001b[0m\u001b[1;33m)\u001b[0m\u001b[1;33m\u001b[0m\u001b[1;33m\u001b[0m\u001b[0m\n",
      "\u001b[1;31mNameError\u001b[0m: name 'list_s3' is not defined"
     ]
    }
   ],
   "source": [
    "for item in list_s3:\n",
    "    print(item)"
   ]
  },
  {
   "cell_type": "code",
   "execution_count": null,
   "id": "54ea36fc-aae5-4783-8871-80659bbd9a9e",
   "metadata": {},
   "outputs": [],
   "source": []
  }
 ],
 "metadata": {
  "kernelspec": {
   "display_name": "Python 3 (ipykernel)",
   "language": "python",
   "name": "python3"
  },
  "language_info": {
   "codemirror_mode": {
    "name": "ipython",
    "version": 3
   },
   "file_extension": ".py",
   "mimetype": "text/x-python",
   "name": "python",
   "nbconvert_exporter": "python",
   "pygments_lexer": "ipython3",
   "version": "3.8.3"
  }
 },
 "nbformat": 4,
 "nbformat_minor": 5
}
