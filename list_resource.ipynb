{
 "cells": [
  {
   "cell_type": "code",
   "execution_count": 6,
   "id": "8a029806",
   "metadata": {},
   "outputs": [
    {
     "name": "stdout",
     "output_type": "stream",
     "text": [
      "Collecting boto3\n",
      "  Downloading boto3-1.20.24-py3-none-any.whl (131 kB)\n",
      "Requirement already satisfied: pandas in c:\\programdata\\anaconda3\\lib\\site-packages (1.3.4)\n",
      "Requirement already satisfied: openpyxl in c:\\programdata\\anaconda3\\lib\\site-packages (3.0.9)\n",
      "Collecting jmespath<1.0.0,>=0.7.1\n",
      "  Using cached jmespath-0.10.0-py2.py3-none-any.whl (24 kB)\n",
      "Collecting s3transfer<0.6.0,>=0.5.0\n",
      "  Using cached s3transfer-0.5.0-py3-none-any.whl (79 kB)\n",
      "Collecting botocore<1.24.0,>=1.23.24\n",
      "  Downloading botocore-1.23.24-py3-none-any.whl (8.4 MB)\n",
      "Requirement already satisfied: python-dateutil>=2.7.3 in c:\\programdata\\anaconda3\\lib\\site-packages (from pandas) (2.8.2)\n",
      "Requirement already satisfied: pytz>=2017.3 in c:\\programdata\\anaconda3\\lib\\site-packages (from pandas) (2021.3)\n",
      "Requirement already satisfied: numpy>=1.17.3 in c:\\programdata\\anaconda3\\lib\\site-packages (from pandas) (1.20.3)\n",
      "Requirement already satisfied: et-xmlfile in c:\\programdata\\anaconda3\\lib\\site-packages (from openpyxl) (1.1.0)\n",
      "Requirement already satisfied: urllib3<1.27,>=1.25.4 in c:\\programdata\\anaconda3\\lib\\site-packages (from botocore<1.24.0,>=1.23.24->boto3) (1.26.7)\n",
      "Requirement already satisfied: six>=1.5 in c:\\programdata\\anaconda3\\lib\\site-packages (from python-dateutil>=2.7.3->pandas) (1.16.0)\n",
      "Installing collected packages: jmespath, botocore, s3transfer, boto3\n",
      "Successfully installed boto3-1.20.24 botocore-1.23.24 jmespath-0.10.0 s3transfer-0.5.0\n"
     ]
    }
   ],
   "source": [
    "!pip install boto3 pandas openpyxl "
   ]
  },
  {
   "cell_type": "code",
   "execution_count": 7,
   "id": "50ac2429-6c14-463f-839b-1527417c56cc",
   "metadata": {},
   "outputs": [],
   "source": [
    "import boto3\n",
    "import pandas as pd\n",
    "import openpyxl\n",
    "import asyncio\n",
    "import concurrent.futures"
   ]
  },
  {
   "cell_type": "code",
   "execution_count": 8,
   "id": "6d7d4e2d-f6ae-4d8d-8c00-b0803434dba3",
   "metadata": {
    "tags": []
   },
   "outputs": [],
   "source": [
    "def profile_iterator(func):\n",
    "    for profile in boto3.session.Session().available_profiles:\n",
    "        try:\n",
    "            result = func(profile)\n",
    "        except Exception as e:\n",
    "            print(e)\n",
    "        # break\n",
    "    yield result"
   ]
  },
  {
   "cell_type": "code",
   "execution_count": 9,
   "id": "946c0b82-7d31-4128-8679-70d5dbb917a9",
   "metadata": {},
   "outputs": [],
   "source": [
    "def test_iterator(func):\n",
    "    for profile in boto3.session.Session().available_profiles:\n",
    "        try:\n",
    "            result = func(profile)\n",
    "        except Exception as e:\n",
    "            print(e)\n",
    "        break\n",
    "    yield result"
   ]
  },
  {
   "cell_type": "code",
   "execution_count": 10,
   "id": "1f760de7-57c8-4f9a-a991-45d3a2f6a625",
   "metadata": {},
   "outputs": [],
   "source": [
    "@profile_iterator\n",
    "def list_s3(profile):\n",
    "    print(\"**********************************\" + profile)\n",
    "    default_session=boto3.session.Session(profile_name=profile)\n",
    "    s3_re=default_session.resource(service_name=\"s3\", region_name=\"ap-northeast-2\")\n",
    "    #s3_re = boto3.resource('s3')\n",
    "    # Print out bucket names\n",
    "    data = []\n",
    "    for bucket in s3_re.buckets.all():\n",
    "        print(bucket.name)\n",
    "        data.append(bucket.name)\n",
    "    return data"
   ]
  },
  {
   "cell_type": "code",
   "execution_count": 22,
   "id": "fb2a1908",
   "metadata": {
    "scrolled": true
   },
   "outputs": [
    {
     "name": "stdout",
     "output_type": "stream",
     "text": [
      "**********************************default\n",
      "lazysbucket\n",
      "['lazysbucket']\n"
     ]
    }
   ],
   "source": [
    "for item in list_s3:\n",
    "    print(item)"
   ]
  },
  {
   "cell_type": "code",
   "execution_count": 19,
   "id": "5e77126f-3ecc-4e38-b7ad-301357487723",
   "metadata": {},
   "outputs": [],
   "source": [
    "@test_iterator\n",
    "def list_ec2(profile):\n",
    "    print(\"**********************************\" + profile)\n",
    "    default_session=boto3.session.Session(profile_name=profile)\n",
    "    ec2_re=default_session.resource(service_name=\"ec2\", region_name=\"ap-northeast-2\")\n",
    "    #s3_re = boto3.resource('s3')\n",
    "    # Print out bucket names\n",
    "    data = []\n",
    "    for instance in ec2_re.instances.all():\n",
    "        instance_info = []\n",
    "        instance_info.append(instance.instance_id)\n",
    "        instance_info.append(instance.instance_type)\n",
    "        instance_info.append(instance.state['Name'])\n",
    "        # instance_info.append(instance.state_reason)\n",
    "        instance_info.append(instance.platform if instance.platform is not None else \"Linux\")\n",
    "        instance_info.append(instance.vpc)\n",
    "        instance_info.append(instance.subnet)\n",
    "        # instance_info.append(instance.vpc_id)\n",
    "        # instance_info.append(instance.subnet_id)\n",
    "        instance_info.append(instance.public_ip_address)\n",
    "        instance_info.append(instance.private_ip_address)\n",
    "        instance_info.append(instance.tags)\n",
    "        instance_info.append(instance.security_groups)\n",
    "        instance_info.append(instance.volumes)\n",
    "        data.append(instance_info)\n",
    "    print([name['Value'] for name in data[0][8] if name['Key'] == 'Name'][0])\n",
    "    return data"
   ]
  },
  {
   "cell_type": "code",
   "execution_count": 20,
   "id": "fb781582",
   "metadata": {},
   "outputs": [
    {
     "name": "stdout",
     "output_type": "stream",
     "text": [
      "**********************************default\n",
      "blog-prd\n",
      "[['i-0e9f485ce932f9b1b', 't3.small', 'running', 'Linux', ec2.Vpc(id='vpc-673fbe0c'), ec2.Subnet(id='subnet-4b73c120'), '3.36.32.139', '172.31.9.230', [{'Key': 'Name', 'Value': 'blog-prd'}], [{'GroupName': 'default', 'GroupId': 'sg-32a23448'}], ec2.Instance.volumesCollectionManager(ec2.Instance(id='i-0e9f485ce932f9b1b'), ec2.Volume)]]\n"
     ]
    }
   ],
   "source": [
    "for item in list_ec2:\n",
    "    print(item)"
   ]
  },
  {
   "cell_type": "code",
   "execution_count": 32,
   "id": "ee8dc5f9",
   "metadata": {},
   "outputs": [],
   "source": [
    "@test_iterator\n",
    "def list_rds(profile):\n",
    "    print(\"**********************************\" + profile)\n",
    "    default_session=boto3.session.Session(profile_name=profile)\n",
    "    client = default_session.client(service_name=\"rds\", region_name=\"ap-northeast-2\")\n",
    "    paginator = client.get_paginator('describe_db_instances')\n",
    "    data = []\n",
    "    for instance in paginator.paginate():\n",
    "        instance_info = []\n",
    "        instance_info.append(instance['DBInstances'])\n",
    "        instance['DBInstances']\n",
    "        data.append(instance_info)\n",
    "    return data"
   ]
  },
  {
   "cell_type": "code",
   "execution_count": 33,
   "id": "54ea36fc-aae5-4783-8871-80659bbd9a9e",
   "metadata": {},
   "outputs": [
    {
     "name": "stdout",
     "output_type": "stream",
     "text": [
      "**********************************default\n",
      "[[[{'DBInstanceIdentifier': 'regionmgration', 'DBInstanceClass': 'db.t2.micro', 'Engine': 'mysql', 'DBInstanceStatus': 'available', 'MasterUsername': 'admin', 'Endpoint': {'Address': 'regionmgration.cf6sgf5yuw1p.ap-northeast-2.rds.amazonaws.com', 'Port': 3306, 'HostedZoneId': 'ZLA2NUCOLGUUR'}, 'AllocatedStorage': 20, 'InstanceCreateTime': datetime.datetime(2021, 6, 9, 16, 9, 31, 368000, tzinfo=tzutc()), 'PreferredBackupWindow': '15:46-16:16', 'BackupRetentionPeriod': 0, 'DBSecurityGroups': [], 'VpcSecurityGroups': [{'VpcSecurityGroupId': 'sg-08b5fe21faaa494dd', 'Status': 'active'}], 'DBParameterGroups': [{'DBParameterGroupName': 'default.mysql8.0', 'ParameterApplyStatus': 'in-sync'}], 'AvailabilityZone': 'ap-northeast-2a', 'DBSubnetGroup': {'DBSubnetGroupName': 'default-vpc-673fbe0c', 'DBSubnetGroupDescription': 'Created from the RDS Management Console', 'VpcId': 'vpc-673fbe0c', 'SubnetGroupStatus': 'Complete', 'Subnets': [{'SubnetIdentifier': 'subnet-4b73c120', 'SubnetAvailabilityZone': {'Name': 'ap-northeast-2a'}, 'SubnetOutpost': {}, 'SubnetStatus': 'Active'}, {'SubnetIdentifier': 'subnet-ee482795', 'SubnetAvailabilityZone': {'Name': 'ap-northeast-2b'}, 'SubnetOutpost': {}, 'SubnetStatus': 'Active'}, {'SubnetIdentifier': 'subnet-10be4d4f', 'SubnetAvailabilityZone': {'Name': 'ap-northeast-2d'}, 'SubnetOutpost': {}, 'SubnetStatus': 'Active'}, {'SubnetIdentifier': 'subnet-abc127e4', 'SubnetAvailabilityZone': {'Name': 'ap-northeast-2c'}, 'SubnetOutpost': {}, 'SubnetStatus': 'Active'}]}, 'PreferredMaintenanceWindow': 'sun:14:44-sun:15:14', 'PendingModifiedValues': {}, 'MultiAZ': False, 'EngineVersion': '8.0.20', 'AutoMinorVersionUpgrade': True, 'ReadReplicaDBInstanceIdentifiers': [], 'LicenseModel': 'general-public-license', 'OptionGroupMemberships': [{'OptionGroupName': 'default:mysql-8-0', 'Status': 'in-sync'}], 'PubliclyAccessible': False, 'StorageType': 'gp2', 'DbInstancePort': 0, 'StorageEncrypted': False, 'DbiResourceId': 'db-LTCAWDXEMBNKD2ZR44INQB2HLE', 'CACertificateIdentifier': 'rds-ca-2019', 'DomainMemberships': [], 'CopyTagsToSnapshot': False, 'MonitoringInterval': 0, 'DBInstanceArn': 'arn:aws:rds:ap-northeast-2:112082971236:db:regionmgration', 'IAMDatabaseAuthenticationEnabled': False, 'PerformanceInsightsEnabled': False, 'DeletionProtection': False, 'AssociatedRoles': [], 'TagList': [], 'CustomerOwnedIpEnabled': False, 'ActivityStreamStatus': 'stopped', 'BackupTarget': 'region'}]]]\n"
     ]
    }
   ],
   "source": [
    "for item in list_rds:\n",
    "    print(item)"
   ]
  },
  {
   "cell_type": "code",
   "execution_count": null,
   "id": "9f5635a2",
   "metadata": {},
   "outputs": [],
   "source": []
  }
 ],
 "metadata": {
  "kernelspec": {
   "display_name": "Python 3 (ipykernel)",
   "language": "python",
   "name": "python3"
  },
  "language_info": {
   "codemirror_mode": {
    "name": "ipython",
    "version": 3
   },
   "file_extension": ".py",
   "mimetype": "text/x-python",
   "name": "python",
   "nbconvert_exporter": "python",
   "pygments_lexer": "ipython3",
   "version": "3.9.7"
  }
 },
 "nbformat": 4,
 "nbformat_minor": 5
}
